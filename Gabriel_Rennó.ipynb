{
  "nbformat": 4,
  "nbformat_minor": 0,
  "metadata": {
    "colab": {
      "name": "Gabriel_Rennó.ipynb",
      "provenance": [],
      "collapsed_sections": [],
      "toc_visible": true,
      "include_colab_link": true
    },
    "kernelspec": {
      "name": "python3",
      "display_name": "Python 3"
    }
  },
  "cells": [
    {
      "cell_type": "markdown",
      "metadata": {
        "id": "view-in-github",
        "colab_type": "text"
      },
      "source": [
        "<a href=\"https://colab.research.google.com/github/GabrielRenno/bootcampalura/blob/main/Gabriel_Renn%C3%B3.ipynb\" target=\"_parent\"><img src=\"https://colab.research.google.com/assets/colab-badge.svg\" alt=\"Open In Colab\"/></a>"
      ]
    },
    {
      "cell_type": "markdown",
      "metadata": {
        "id": "RshO3GgDFGhB"
      },
      "source": [
        "## Resumo:\n",
        "\n",
        "Comparação entre o PIB(2017) de cada estado com a taxa de mortalidade do vírus Covid-19. O objetivo era analisar se um alto PIB, seria convertido em uma taxa de mortalidade menor, pois teoricamente os estados com maior PIB possuem mais recursos para aplicar na saúde.\n",
        "\n",
        "Conclusão: Um PIB alto não se converte em menor mortalidade. A variável PIB possui uma correlação com a variavel mortalidade muito próxima de zero(0.33). Isso pode ocorrer por vários motivos, entre eles:\n",
        "\n",
        "- O governo dos estados não converte a riqueza produzida em investimento na saúde como deveria.\n",
        "- A alta mortalidade do vírus pode ser causada por outros fatores, como densidade demográfica, idade dos pacientes, carga viral, capacidade dos hospitais, data de início do tratamento, mutação do vírus entre outras mais. Portanto apenas o PIB é muito pouco para encontrar um padrão na taxa de mortalidade.\n",
        "\n",
        "Dados utilizados: Covid-19 Brasil.io e PIB 2017 IBGE\n"
      ]
    },
    {
      "cell_type": "markdown",
      "metadata": {
        "id": "wMBHmmkqih1G"
      },
      "source": [
        "Hipótese: os estados com menor taxa de mortalidade são os que possuem maior PIB, já que indiretamente são os que possuem mais recursos para tratar os doentes.\n",
        "\n"
      ]
    },
    {
      "cell_type": "markdown",
      "metadata": {
        "id": "YJaNprdeFN7n"
      },
      "source": [
        "## Análise dos dados:\n"
      ]
    },
    {
      "cell_type": "markdown",
      "metadata": {
        "id": "S2fEw_6Egsnw"
      },
      "source": [
        "Baixando o pacote pandas e os dados usados.\n",
        "\n",
        "\n",
        "Link para  os dados: https://github.com/reiskleiton/bootcampAluraDS/blob/main/datasets/brazil_io/caso.csv.gz?raw=true"
      ]
    },
    {
      "cell_type": "code",
      "metadata": {
        "id": "wWHrc23HMW07",
        "colab": {
          "base_uri": "https://localhost:8080/",
          "height": 299
        },
        "outputId": "4cd2c0ad-1f78-4b62-952d-b4c8a781e505"
      },
      "source": [
        "#Os dados foram baixados diretamente da internet para evitar ter que carrega-los sempre que se conectar ao notebook.\n",
        "\n",
        "import pandas as pd\n",
        "\n",
        "zip_file_url = 'https://github.com/reiskleiton/bootcampAluraDS/blob/main/datasets/brazil_io/caso.csv.gz?raw=true'\n",
        "dados_covid = pd.read_csv(zip_file_url, compression='gzip', na_values=['Importados/Indefinidos'])\n",
        "df = dados_covid\n",
        "df.head()"
      ],
      "execution_count": null,
      "outputs": [
        {
          "output_type": "execute_result",
          "data": {
            "text/html": [
              "<div>\n",
              "<style scoped>\n",
              "    .dataframe tbody tr th:only-of-type {\n",
              "        vertical-align: middle;\n",
              "    }\n",
              "\n",
              "    .dataframe tbody tr th {\n",
              "        vertical-align: top;\n",
              "    }\n",
              "\n",
              "    .dataframe thead th {\n",
              "        text-align: right;\n",
              "    }\n",
              "</style>\n",
              "<table border=\"1\" class=\"dataframe\">\n",
              "  <thead>\n",
              "    <tr style=\"text-align: right;\">\n",
              "      <th></th>\n",
              "      <th>date</th>\n",
              "      <th>state</th>\n",
              "      <th>city</th>\n",
              "      <th>place_type</th>\n",
              "      <th>confirmed</th>\n",
              "      <th>deaths</th>\n",
              "      <th>order_for_place</th>\n",
              "      <th>is_last</th>\n",
              "      <th>estimated_population_2019</th>\n",
              "      <th>estimated_population</th>\n",
              "      <th>city_ibge_code</th>\n",
              "      <th>confirmed_per_100k_inhabitants</th>\n",
              "      <th>death_rate</th>\n",
              "    </tr>\n",
              "  </thead>\n",
              "  <tbody>\n",
              "    <tr>\n",
              "      <th>0</th>\n",
              "      <td>2020-11-17</td>\n",
              "      <td>AC</td>\n",
              "      <td>NaN</td>\n",
              "      <td>state</td>\n",
              "      <td>33475</td>\n",
              "      <td>709</td>\n",
              "      <td>246</td>\n",
              "      <td>True</td>\n",
              "      <td>881935.0</td>\n",
              "      <td>894470.0</td>\n",
              "      <td>12.0</td>\n",
              "      <td>3742.43966</td>\n",
              "      <td>0.0212</td>\n",
              "    </tr>\n",
              "    <tr>\n",
              "      <th>1</th>\n",
              "      <td>2020-11-16</td>\n",
              "      <td>AC</td>\n",
              "      <td>NaN</td>\n",
              "      <td>state</td>\n",
              "      <td>33295</td>\n",
              "      <td>708</td>\n",
              "      <td>245</td>\n",
              "      <td>False</td>\n",
              "      <td>881935.0</td>\n",
              "      <td>894470.0</td>\n",
              "      <td>12.0</td>\n",
              "      <td>3722.31601</td>\n",
              "      <td>0.0213</td>\n",
              "    </tr>\n",
              "    <tr>\n",
              "      <th>2</th>\n",
              "      <td>2020-11-15</td>\n",
              "      <td>AC</td>\n",
              "      <td>NaN</td>\n",
              "      <td>state</td>\n",
              "      <td>33156</td>\n",
              "      <td>708</td>\n",
              "      <td>244</td>\n",
              "      <td>False</td>\n",
              "      <td>881935.0</td>\n",
              "      <td>894470.0</td>\n",
              "      <td>12.0</td>\n",
              "      <td>3706.77608</td>\n",
              "      <td>0.0214</td>\n",
              "    </tr>\n",
              "    <tr>\n",
              "      <th>3</th>\n",
              "      <td>2020-11-14</td>\n",
              "      <td>AC</td>\n",
              "      <td>NaN</td>\n",
              "      <td>state</td>\n",
              "      <td>32991</td>\n",
              "      <td>708</td>\n",
              "      <td>243</td>\n",
              "      <td>False</td>\n",
              "      <td>881935.0</td>\n",
              "      <td>894470.0</td>\n",
              "      <td>12.0</td>\n",
              "      <td>3688.32940</td>\n",
              "      <td>0.0215</td>\n",
              "    </tr>\n",
              "    <tr>\n",
              "      <th>4</th>\n",
              "      <td>2020-11-13</td>\n",
              "      <td>AC</td>\n",
              "      <td>NaN</td>\n",
              "      <td>state</td>\n",
              "      <td>32661</td>\n",
              "      <td>707</td>\n",
              "      <td>242</td>\n",
              "      <td>False</td>\n",
              "      <td>881935.0</td>\n",
              "      <td>894470.0</td>\n",
              "      <td>12.0</td>\n",
              "      <td>3651.43605</td>\n",
              "      <td>0.0216</td>\n",
              "    </tr>\n",
              "  </tbody>\n",
              "</table>\n",
              "</div>"
            ],
            "text/plain": [
              "         date state  ... confirmed_per_100k_inhabitants death_rate\n",
              "0  2020-11-17    AC  ...                     3742.43966     0.0212\n",
              "1  2020-11-16    AC  ...                     3722.31601     0.0213\n",
              "2  2020-11-15    AC  ...                     3706.77608     0.0214\n",
              "3  2020-11-14    AC  ...                     3688.32940     0.0215\n",
              "4  2020-11-13    AC  ...                     3651.43605     0.0216\n",
              "\n",
              "[5 rows x 13 columns]"
            ]
          },
          "metadata": {
            "tags": []
          },
          "execution_count": 314
        }
      ]
    },
    {
      "cell_type": "markdown",
      "metadata": {
        "id": "emGUucL1hjXx"
      },
      "source": [
        "Primeiro vamos dropar as colunas que não serão aproveitadas no estudo"
      ]
    },
    {
      "cell_type": "code",
      "metadata": {
        "id": "gbiC0Jw2ftyx",
        "colab": {
          "base_uri": "https://localhost:8080/",
          "height": 195
        },
        "outputId": "85620928-119f-4f4f-bb49-76499d5c2ac1"
      },
      "source": [
        "#utilizando a função do pandas df.drop iremos remover as colunas não aproveitaveis\n",
        "\n",
        "\n",
        "df = df.drop(columns=['city', 'order_for_place', 'estimated_population_2019', \n",
        "                      'city_ibge_code', \"confirmed_per_100k_inhabitants\", 'death_rate'])\n",
        "df.head()"
      ],
      "execution_count": null,
      "outputs": [
        {
          "output_type": "execute_result",
          "data": {
            "text/html": [
              "<div>\n",
              "<style scoped>\n",
              "    .dataframe tbody tr th:only-of-type {\n",
              "        vertical-align: middle;\n",
              "    }\n",
              "\n",
              "    .dataframe tbody tr th {\n",
              "        vertical-align: top;\n",
              "    }\n",
              "\n",
              "    .dataframe thead th {\n",
              "        text-align: right;\n",
              "    }\n",
              "</style>\n",
              "<table border=\"1\" class=\"dataframe\">\n",
              "  <thead>\n",
              "    <tr style=\"text-align: right;\">\n",
              "      <th></th>\n",
              "      <th>date</th>\n",
              "      <th>state</th>\n",
              "      <th>place_type</th>\n",
              "      <th>confirmed</th>\n",
              "      <th>deaths</th>\n",
              "      <th>is_last</th>\n",
              "      <th>estimated_population</th>\n",
              "    </tr>\n",
              "  </thead>\n",
              "  <tbody>\n",
              "    <tr>\n",
              "      <th>0</th>\n",
              "      <td>2020-11-17</td>\n",
              "      <td>AC</td>\n",
              "      <td>state</td>\n",
              "      <td>33475</td>\n",
              "      <td>709</td>\n",
              "      <td>True</td>\n",
              "      <td>894470.0</td>\n",
              "    </tr>\n",
              "    <tr>\n",
              "      <th>1</th>\n",
              "      <td>2020-11-16</td>\n",
              "      <td>AC</td>\n",
              "      <td>state</td>\n",
              "      <td>33295</td>\n",
              "      <td>708</td>\n",
              "      <td>False</td>\n",
              "      <td>894470.0</td>\n",
              "    </tr>\n",
              "    <tr>\n",
              "      <th>2</th>\n",
              "      <td>2020-11-15</td>\n",
              "      <td>AC</td>\n",
              "      <td>state</td>\n",
              "      <td>33156</td>\n",
              "      <td>708</td>\n",
              "      <td>False</td>\n",
              "      <td>894470.0</td>\n",
              "    </tr>\n",
              "    <tr>\n",
              "      <th>3</th>\n",
              "      <td>2020-11-14</td>\n",
              "      <td>AC</td>\n",
              "      <td>state</td>\n",
              "      <td>32991</td>\n",
              "      <td>708</td>\n",
              "      <td>False</td>\n",
              "      <td>894470.0</td>\n",
              "    </tr>\n",
              "    <tr>\n",
              "      <th>4</th>\n",
              "      <td>2020-11-13</td>\n",
              "      <td>AC</td>\n",
              "      <td>state</td>\n",
              "      <td>32661</td>\n",
              "      <td>707</td>\n",
              "      <td>False</td>\n",
              "      <td>894470.0</td>\n",
              "    </tr>\n",
              "  </tbody>\n",
              "</table>\n",
              "</div>"
            ],
            "text/plain": [
              "         date state place_type  ...  deaths  is_last  estimated_population\n",
              "0  2020-11-17    AC      state  ...     709     True              894470.0\n",
              "1  2020-11-16    AC      state  ...     708    False              894470.0\n",
              "2  2020-11-15    AC      state  ...     708    False              894470.0\n",
              "3  2020-11-14    AC      state  ...     708    False              894470.0\n",
              "4  2020-11-13    AC      state  ...     707    False              894470.0\n",
              "\n",
              "[5 rows x 7 columns]"
            ]
          },
          "metadata": {
            "tags": []
          },
          "execution_count": 315
        }
      ]
    },
    {
      "cell_type": "markdown",
      "metadata": {
        "id": "d2J6Ca0yh-9z"
      },
      "source": [
        "Agora vamos verificar se há algum valor ausente no nosso dataset"
      ]
    },
    {
      "cell_type": "code",
      "metadata": {
        "id": "XtaKnXr_j6HQ",
        "colab": {
          "base_uri": "https://localhost:8080/"
        },
        "outputId": "d09e83f7-fcac-4ed8-b651-342e736896ff"
      },
      "source": [
        "#A função isna retorna valores booleanos para indicar se o valor é NA ou não.\n",
        "# Ao adicionar a função Sum podemos contar quantos valores NA cada coluna possui\n",
        "df.isna().sum()"
      ],
      "execution_count": null,
      "outputs": [
        {
          "output_type": "execute_result",
          "data": {
            "text/plain": [
              "date                       0\n",
              "state                      0\n",
              "place_type                 0\n",
              "confirmed                  0\n",
              "deaths                     0\n",
              "is_last                    0\n",
              "estimated_population    3802\n",
              "dtype: int64"
            ]
          },
          "metadata": {
            "tags": []
          },
          "execution_count": 316
        }
      ]
    },
    {
      "cell_type": "markdown",
      "metadata": {
        "id": "xrttSaNYijXW"
      },
      "source": [
        "Podemos perceber que a unica coluna com valores NA é a coluna 'estimated_population' que indica qual é a população do lugar.\n",
        "\n",
        "E vamos tentar entender por que existem valores NA nessa coluna do dataset."
      ]
    },
    {
      "cell_type": "code",
      "metadata": {
        "id": "F0N02hH9mKdB",
        "colab": {
          "base_uri": "https://localhost:8080/",
          "height": 402
        },
        "outputId": "f1494129-c7ea-49c0-f17b-dd39c5034da6"
      },
      "source": [
        "#Essa linha de código filtra os valores do dataset nos quais a coluna 'estimated_population' possui valores NA\n",
        "ausentes = df[\"estimated_population\"].isna()\n",
        "df[ausentes]"
      ],
      "execution_count": null,
      "outputs": [
        {
          "output_type": "execute_result",
          "data": {
            "text/html": [
              "<div>\n",
              "<style scoped>\n",
              "    .dataframe tbody tr th:only-of-type {\n",
              "        vertical-align: middle;\n",
              "    }\n",
              "\n",
              "    .dataframe tbody tr th {\n",
              "        vertical-align: top;\n",
              "    }\n",
              "\n",
              "    .dataframe thead th {\n",
              "        text-align: right;\n",
              "    }\n",
              "</style>\n",
              "<table border=\"1\" class=\"dataframe\">\n",
              "  <thead>\n",
              "    <tr style=\"text-align: right;\">\n",
              "      <th></th>\n",
              "      <th>date</th>\n",
              "      <th>state</th>\n",
              "      <th>place_type</th>\n",
              "      <th>confirmed</th>\n",
              "      <th>deaths</th>\n",
              "      <th>is_last</th>\n",
              "      <th>estimated_population</th>\n",
              "    </tr>\n",
              "  </thead>\n",
              "  <tbody>\n",
              "    <tr>\n",
              "      <th>21378</th>\n",
              "      <td>2020-11-16</td>\n",
              "      <td>DF</td>\n",
              "      <td>city</td>\n",
              "      <td>27058</td>\n",
              "      <td>310</td>\n",
              "      <td>True</td>\n",
              "      <td>NaN</td>\n",
              "    </tr>\n",
              "    <tr>\n",
              "      <th>21379</th>\n",
              "      <td>2020-11-15</td>\n",
              "      <td>DF</td>\n",
              "      <td>city</td>\n",
              "      <td>27007</td>\n",
              "      <td>310</td>\n",
              "      <td>False</td>\n",
              "      <td>NaN</td>\n",
              "    </tr>\n",
              "    <tr>\n",
              "      <th>21380</th>\n",
              "      <td>2020-11-14</td>\n",
              "      <td>DF</td>\n",
              "      <td>city</td>\n",
              "      <td>26996</td>\n",
              "      <td>310</td>\n",
              "      <td>False</td>\n",
              "      <td>NaN</td>\n",
              "    </tr>\n",
              "    <tr>\n",
              "      <th>21381</th>\n",
              "      <td>2020-11-13</td>\n",
              "      <td>DF</td>\n",
              "      <td>city</td>\n",
              "      <td>26918</td>\n",
              "      <td>310</td>\n",
              "      <td>False</td>\n",
              "      <td>NaN</td>\n",
              "    </tr>\n",
              "    <tr>\n",
              "      <th>21382</th>\n",
              "      <td>2020-11-12</td>\n",
              "      <td>DF</td>\n",
              "      <td>city</td>\n",
              "      <td>26837</td>\n",
              "      <td>308</td>\n",
              "      <td>False</td>\n",
              "      <td>NaN</td>\n",
              "    </tr>\n",
              "    <tr>\n",
              "      <th>...</th>\n",
              "      <td>...</td>\n",
              "      <td>...</td>\n",
              "      <td>...</td>\n",
              "      <td>...</td>\n",
              "      <td>...</td>\n",
              "      <td>...</td>\n",
              "      <td>...</td>\n",
              "    </tr>\n",
              "    <tr>\n",
              "      <th>907948</th>\n",
              "      <td>2020-03-23</td>\n",
              "      <td>SP</td>\n",
              "      <td>city</td>\n",
              "      <td>0</td>\n",
              "      <td>0</td>\n",
              "      <td>False</td>\n",
              "      <td>NaN</td>\n",
              "    </tr>\n",
              "    <tr>\n",
              "      <th>907949</th>\n",
              "      <td>2020-03-22</td>\n",
              "      <td>SP</td>\n",
              "      <td>city</td>\n",
              "      <td>0</td>\n",
              "      <td>0</td>\n",
              "      <td>False</td>\n",
              "      <td>NaN</td>\n",
              "    </tr>\n",
              "    <tr>\n",
              "      <th>907950</th>\n",
              "      <td>2020-03-21</td>\n",
              "      <td>SP</td>\n",
              "      <td>city</td>\n",
              "      <td>0</td>\n",
              "      <td>0</td>\n",
              "      <td>False</td>\n",
              "      <td>NaN</td>\n",
              "    </tr>\n",
              "    <tr>\n",
              "      <th>907951</th>\n",
              "      <td>2020-03-20</td>\n",
              "      <td>SP</td>\n",
              "      <td>city</td>\n",
              "      <td>8</td>\n",
              "      <td>0</td>\n",
              "      <td>False</td>\n",
              "      <td>NaN</td>\n",
              "    </tr>\n",
              "    <tr>\n",
              "      <th>907952</th>\n",
              "      <td>2020-03-19</td>\n",
              "      <td>SP</td>\n",
              "      <td>city</td>\n",
              "      <td>4</td>\n",
              "      <td>0</td>\n",
              "      <td>False</td>\n",
              "      <td>NaN</td>\n",
              "    </tr>\n",
              "  </tbody>\n",
              "</table>\n",
              "<p>3802 rows × 7 columns</p>\n",
              "</div>"
            ],
            "text/plain": [
              "              date state place_type  ...  deaths  is_last  estimated_population\n",
              "21378   2020-11-16    DF       city  ...     310     True                   NaN\n",
              "21379   2020-11-15    DF       city  ...     310    False                   NaN\n",
              "21380   2020-11-14    DF       city  ...     310    False                   NaN\n",
              "21381   2020-11-13    DF       city  ...     310    False                   NaN\n",
              "21382   2020-11-12    DF       city  ...     308    False                   NaN\n",
              "...            ...   ...        ...  ...     ...      ...                   ...\n",
              "907948  2020-03-23    SP       city  ...       0    False                   NaN\n",
              "907949  2020-03-22    SP       city  ...       0    False                   NaN\n",
              "907950  2020-03-21    SP       city  ...       0    False                   NaN\n",
              "907951  2020-03-20    SP       city  ...       0    False                   NaN\n",
              "907952  2020-03-19    SP       city  ...       0    False                   NaN\n",
              "\n",
              "[3802 rows x 7 columns]"
            ]
          },
          "metadata": {
            "tags": []
          },
          "execution_count": 317
        }
      ]
    },
    {
      "cell_type": "markdown",
      "metadata": {
        "id": "x5XK1VZRjVrs"
      },
      "source": [
        "Descobrimos que os locais os quais possuem estimated_population = NA são as cidades, portanto não são interessantes para o estudo\n",
        "Devemos filtrar o df pelas linhas cuja a coluna place_types = state"
      ]
    },
    {
      "cell_type": "code",
      "metadata": {
        "id": "YlZxpwR-nQMP"
      },
      "source": [
        "filtro =df[\"place_type\"]=='state'\n",
        "df_filtrado = df[filtro]"
      ],
      "execution_count": null,
      "outputs": []
    },
    {
      "cell_type": "code",
      "metadata": {
        "id": "tdzjzDkCoPC1",
        "colab": {
          "base_uri": "https://localhost:8080/"
        },
        "outputId": "95287889-01eb-44c0-d024-1b1c711cbd07"
      },
      "source": [
        "#checando se os valores Na foram removidos\n",
        "df_filtrado.isna().sum()"
      ],
      "execution_count": null,
      "outputs": [
        {
          "output_type": "execute_result",
          "data": {
            "text/plain": [
              "date                    0\n",
              "state                   0\n",
              "place_type              0\n",
              "confirmed               0\n",
              "deaths                  0\n",
              "is_last                 0\n",
              "estimated_population    0\n",
              "dtype: int64"
            ]
          },
          "metadata": {
            "tags": []
          },
          "execution_count": 319
        }
      ]
    },
    {
      "cell_type": "code",
      "metadata": {
        "id": "MtInGHt0pIfx",
        "colab": {
          "base_uri": "https://localhost:8080/"
        },
        "outputId": "2ae123cd-b065-4bc0-c1aa-1e6030b522d4"
      },
      "source": [
        "#Agora vamos checar quantas linhas há no dataset\n",
        "df_filtrado.count()"
      ],
      "execution_count": null,
      "outputs": [
        {
          "output_type": "execute_result",
          "data": {
            "text/plain": [
              "date                    6649\n",
              "state                   6649\n",
              "place_type              6649\n",
              "confirmed               6649\n",
              "deaths                  6649\n",
              "is_last                 6649\n",
              "estimated_population    6649\n",
              "dtype: int64"
            ]
          },
          "metadata": {
            "tags": []
          },
          "execution_count": 320
        }
      ]
    },
    {
      "cell_type": "code",
      "metadata": {
        "id": "ejtv77p1pQqH",
        "colab": {
          "base_uri": "https://localhost:8080/"
        },
        "outputId": "065f25f8-724f-48c4-a3d3-b0233f549536"
      },
      "source": [
        "#Checando o range de datas do dataframe\n",
        "data_mais_antiga = df_filtrado.date.min()\n",
        "data_mais_recente = df_filtrado.date.max()\n",
        "print('O dataset possuí registros de {} até {}'.format(data_mais_antiga, data_mais_recente))"
      ],
      "execution_count": null,
      "outputs": [
        {
          "output_type": "stream",
          "text": [
            "O dataset possuí registros de 2020-02-25 até 2020-11-17\n"
          ],
          "name": "stdout"
        }
      ]
    },
    {
      "cell_type": "code",
      "metadata": {
        "id": "5vTG25W0prtK",
        "colab": {
          "base_uri": "https://localhost:8080/",
          "height": 289
        },
        "outputId": "59324ca8-6337-4bbf-e93e-f29fd23495a5"
      },
      "source": [
        "#Checando a distribuição de observaçoes por estado\n",
        "frequencia = df_filtrado.state.value_counts()\n",
        "frequencia.head()\n",
        "frequencia.plot(kind = 'bar')\n",
        "#Podemos notar que o numero de observaçoes não possui uma grande variação,\n",
        "#sendo são paulo o estado com mais observaçoes e rio grande do norte o estado com menos observações"
      ],
      "execution_count": null,
      "outputs": [
        {
          "output_type": "execute_result",
          "data": {
            "text/plain": [
              "<matplotlib.axes._subplots.AxesSubplot at 0x7f27c9430a90>"
            ]
          },
          "metadata": {
            "tags": []
          },
          "execution_count": 322
        },
        {
          "output_type": "display_data",
          "data": {
            "image/png": "[encoded data removed]",
            "text/plain": [
              "<Figure size 432x288 with 1 Axes>"
            ]
          },
          "metadata": {
            "tags": []
          }
        }
      ]
    },
    {
      "cell_type": "code",
      "metadata": {
        "colab": {
          "base_uri": "https://localhost:8080/",
          "height": 195
        },
        "id": "_trkxIT6lMCD",
        "outputId": "dc9e43e8-efb3-4803-dacd-b593643e26a8"
      },
      "source": [
        "df_filtrado.head()"
      ],
      "execution_count": null,
      "outputs": [
        {
          "output_type": "execute_result",
          "data": {
            "text/html": [
              "<div>\n",
              "<style scoped>\n",
              "    .dataframe tbody tr th:only-of-type {\n",
              "        vertical-align: middle;\n",
              "    }\n",
              "\n",
              "    .dataframe tbody tr th {\n",
              "        vertical-align: top;\n",
              "    }\n",
              "\n",
              "    .dataframe thead th {\n",
              "        text-align: right;\n",
              "    }\n",
              "</style>\n",
              "<table border=\"1\" class=\"dataframe\">\n",
              "  <thead>\n",
              "    <tr style=\"text-align: right;\">\n",
              "      <th></th>\n",
              "      <th>date</th>\n",
              "      <th>state</th>\n",
              "      <th>place_type</th>\n",
              "      <th>confirmed</th>\n",
              "      <th>deaths</th>\n",
              "      <th>is_last</th>\n",
              "      <th>estimated_population</th>\n",
              "    </tr>\n",
              "  </thead>\n",
              "  <tbody>\n",
              "    <tr>\n",
              "      <th>0</th>\n",
              "      <td>2020-11-17</td>\n",
              "      <td>AC</td>\n",
              "      <td>state</td>\n",
              "      <td>33475</td>\n",
              "      <td>709</td>\n",
              "      <td>True</td>\n",
              "      <td>894470.0</td>\n",
              "    </tr>\n",
              "    <tr>\n",
              "      <th>1</th>\n",
              "      <td>2020-11-16</td>\n",
              "      <td>AC</td>\n",
              "      <td>state</td>\n",
              "      <td>33295</td>\n",
              "      <td>708</td>\n",
              "      <td>False</td>\n",
              "      <td>894470.0</td>\n",
              "    </tr>\n",
              "    <tr>\n",
              "      <th>2</th>\n",
              "      <td>2020-11-15</td>\n",
              "      <td>AC</td>\n",
              "      <td>state</td>\n",
              "      <td>33156</td>\n",
              "      <td>708</td>\n",
              "      <td>False</td>\n",
              "      <td>894470.0</td>\n",
              "    </tr>\n",
              "    <tr>\n",
              "      <th>3</th>\n",
              "      <td>2020-11-14</td>\n",
              "      <td>AC</td>\n",
              "      <td>state</td>\n",
              "      <td>32991</td>\n",
              "      <td>708</td>\n",
              "      <td>False</td>\n",
              "      <td>894470.0</td>\n",
              "    </tr>\n",
              "    <tr>\n",
              "      <th>4</th>\n",
              "      <td>2020-11-13</td>\n",
              "      <td>AC</td>\n",
              "      <td>state</td>\n",
              "      <td>32661</td>\n",
              "      <td>707</td>\n",
              "      <td>False</td>\n",
              "      <td>894470.0</td>\n",
              "    </tr>\n",
              "  </tbody>\n",
              "</table>\n",
              "</div>"
            ],
            "text/plain": [
              "         date state place_type  ...  deaths  is_last  estimated_population\n",
              "0  2020-11-17    AC      state  ...     709     True              894470.0\n",
              "1  2020-11-16    AC      state  ...     708    False              894470.0\n",
              "2  2020-11-15    AC      state  ...     708    False              894470.0\n",
              "3  2020-11-14    AC      state  ...     708    False              894470.0\n",
              "4  2020-11-13    AC      state  ...     707    False              894470.0\n",
              "\n",
              "[5 rows x 7 columns]"
            ]
          },
          "metadata": {
            "tags": []
          },
          "execution_count": 323
        }
      ]
    },
    {
      "cell_type": "markdown",
      "metadata": {
        "id": "1q6DVWj-ru-N"
      },
      "source": [
        "#Somando a quantidade de mortes e casos confirmados por estado ao longo do periodo\n",
        "\n",
        "---\n",
        "\n"
      ]
    },
    {
      "cell_type": "code",
      "metadata": {
        "id": "goiuaYoAqOtp",
        "colab": {
          "base_uri": "https://localhost:8080/",
          "height": 225
        },
        "outputId": "7fa6cf6d-8222-4195-8e5f-758e25ef95c4"
      },
      "source": [
        "#A função groupby permitiu realizar a soma de 'deaths' e 'confirmed' por 'state'\n",
        "morte_estados = df_filtrado[['deaths', 'confirmed'] ].groupby(df['state'])\n",
        "morte_estados = morte_estados.sum()\n",
        "morte_estados.head()"
      ],
      "execution_count": null,
      "outputs": [
        {
          "output_type": "execute_result",
          "data": {
            "text/html": [
              "<div>\n",
              "<style scoped>\n",
              "    .dataframe tbody tr th:only-of-type {\n",
              "        vertical-align: middle;\n",
              "    }\n",
              "\n",
              "    .dataframe tbody tr th {\n",
              "        vertical-align: top;\n",
              "    }\n",
              "\n",
              "    .dataframe thead th {\n",
              "        text-align: right;\n",
              "    }\n",
              "</style>\n",
              "<table border=\"1\" class=\"dataframe\">\n",
              "  <thead>\n",
              "    <tr style=\"text-align: right;\">\n",
              "      <th></th>\n",
              "      <th>deaths</th>\n",
              "      <th>confirmed</th>\n",
              "    </tr>\n",
              "    <tr>\n",
              "      <th>state</th>\n",
              "      <th></th>\n",
              "      <th></th>\n",
              "    </tr>\n",
              "  </thead>\n",
              "  <tbody>\n",
              "    <tr>\n",
              "      <th>AC</th>\n",
              "      <td>94216</td>\n",
              "      <td>3861781</td>\n",
              "    </tr>\n",
              "    <tr>\n",
              "      <th>AL</th>\n",
              "      <td>291141</td>\n",
              "      <td>11367104</td>\n",
              "    </tr>\n",
              "    <tr>\n",
              "      <th>AM</th>\n",
              "      <td>648747</td>\n",
              "      <td>19794600</td>\n",
              "    </tr>\n",
              "    <tr>\n",
              "      <th>AP</th>\n",
              "      <td>101417</td>\n",
              "      <td>6593626</td>\n",
              "    </tr>\n",
              "    <tr>\n",
              "      <th>BA</th>\n",
              "      <td>807807</td>\n",
              "      <td>36962400</td>\n",
              "    </tr>\n",
              "  </tbody>\n",
              "</table>\n",
              "</div>"
            ],
            "text/plain": [
              "       deaths  confirmed\n",
              "state                   \n",
              "AC      94216    3861781\n",
              "AL     291141   11367104\n",
              "AM     648747   19794600\n",
              "AP     101417    6593626\n",
              "BA     807807   36962400"
            ]
          },
          "metadata": {
            "tags": []
          },
          "execution_count": 324
        }
      ]
    },
    {
      "cell_type": "code",
      "metadata": {
        "id": "F4DGr-scw3B-",
        "colab": {
          "base_uri": "https://localhost:8080/",
          "height": 225
        },
        "outputId": "bae5bcd6-d011-430d-a40d-989ec7cfbed4"
      },
      "source": [
        "#Agora é adicionada a coluna mortes/confirmados\n",
        "morte_estados['taxa_mortalidade%'] = morte_estados['deaths'] / morte_estados['confirmed'] * 100\n",
        "morte_estados.head()"
      ],
      "execution_count": null,
      "outputs": [
        {
          "output_type": "execute_result",
          "data": {
            "text/html": [
              "<div>\n",
              "<style scoped>\n",
              "    .dataframe tbody tr th:only-of-type {\n",
              "        vertical-align: middle;\n",
              "    }\n",
              "\n",
              "    .dataframe tbody tr th {\n",
              "        vertical-align: top;\n",
              "    }\n",
              "\n",
              "    .dataframe thead th {\n",
              "        text-align: right;\n",
              "    }\n",
              "</style>\n",
              "<table border=\"1\" class=\"dataframe\">\n",
              "  <thead>\n",
              "    <tr style=\"text-align: right;\">\n",
              "      <th></th>\n",
              "      <th>deaths</th>\n",
              "      <th>confirmed</th>\n",
              "      <th>taxa_mortalidade%</th>\n",
              "    </tr>\n",
              "    <tr>\n",
              "      <th>state</th>\n",
              "      <th></th>\n",
              "      <th></th>\n",
              "      <th></th>\n",
              "    </tr>\n",
              "  </thead>\n",
              "  <tbody>\n",
              "    <tr>\n",
              "      <th>AC</th>\n",
              "      <td>94216</td>\n",
              "      <td>3861781</td>\n",
              "      <td>2.439703</td>\n",
              "    </tr>\n",
              "    <tr>\n",
              "      <th>AL</th>\n",
              "      <td>291141</td>\n",
              "      <td>11367104</td>\n",
              "      <td>2.561259</td>\n",
              "    </tr>\n",
              "    <tr>\n",
              "      <th>AM</th>\n",
              "      <td>648747</td>\n",
              "      <td>19794600</td>\n",
              "      <td>3.277394</td>\n",
              "    </tr>\n",
              "    <tr>\n",
              "      <th>AP</th>\n",
              "      <td>101417</td>\n",
              "      <td>6593626</td>\n",
              "      <td>1.538107</td>\n",
              "    </tr>\n",
              "    <tr>\n",
              "      <th>BA</th>\n",
              "      <td>807807</td>\n",
              "      <td>36962400</td>\n",
              "      <td>2.185483</td>\n",
              "    </tr>\n",
              "  </tbody>\n",
              "</table>\n",
              "</div>"
            ],
            "text/plain": [
              "       deaths  confirmed  taxa_mortalidade%\n",
              "state                                      \n",
              "AC      94216    3861781           2.439703\n",
              "AL     291141   11367104           2.561259\n",
              "AM     648747   19794600           3.277394\n",
              "AP     101417    6593626           1.538107\n",
              "BA     807807   36962400           2.185483"
            ]
          },
          "metadata": {
            "tags": []
          },
          "execution_count": 325
        }
      ]
    },
    {
      "cell_type": "code",
      "metadata": {
        "id": "JVyOeyd0xMJc",
        "colab": {
          "base_uri": "https://localhost:8080/",
          "height": 225
        },
        "outputId": "cd4d56c4-6c5a-4e50-a324-94eab7e44eb0"
      },
      "source": [
        "#Usando a função sort_values para ordenar o dataset pelo valor de taxa de mortalidade\n",
        "morte_estados = morte_estados.sort_values('taxa_mortalidade%', ascending = False)\n",
        "morte_estados.head()"
      ],
      "execution_count": null,
      "outputs": [
        {
          "output_type": "execute_result",
          "data": {
            "text/html": [
              "<div>\n",
              "<style scoped>\n",
              "    .dataframe tbody tr th:only-of-type {\n",
              "        vertical-align: middle;\n",
              "    }\n",
              "\n",
              "    .dataframe tbody tr th {\n",
              "        vertical-align: top;\n",
              "    }\n",
              "\n",
              "    .dataframe thead th {\n",
              "        text-align: right;\n",
              "    }\n",
              "</style>\n",
              "<table border=\"1\" class=\"dataframe\">\n",
              "  <thead>\n",
              "    <tr style=\"text-align: right;\">\n",
              "      <th></th>\n",
              "      <th>deaths</th>\n",
              "      <th>confirmed</th>\n",
              "      <th>taxa_mortalidade%</th>\n",
              "    </tr>\n",
              "    <tr>\n",
              "      <th>state</th>\n",
              "      <th></th>\n",
              "      <th></th>\n",
              "      <th></th>\n",
              "    </tr>\n",
              "  </thead>\n",
              "  <tbody>\n",
              "    <tr>\n",
              "      <th>RJ</th>\n",
              "      <td>2613669</td>\n",
              "      <td>35203156</td>\n",
              "      <td>7.424530</td>\n",
              "    </tr>\n",
              "    <tr>\n",
              "      <th>PE</th>\n",
              "      <td>1220504</td>\n",
              "      <td>19701947</td>\n",
              "      <td>6.194840</td>\n",
              "    </tr>\n",
              "    <tr>\n",
              "      <th>CE</th>\n",
              "      <td>1383821</td>\n",
              "      <td>33675951</td>\n",
              "      <td>4.109226</td>\n",
              "    </tr>\n",
              "    <tr>\n",
              "      <th>SP</th>\n",
              "      <td>4613738</td>\n",
              "      <td>116716251</td>\n",
              "      <td>3.952953</td>\n",
              "    </tr>\n",
              "    <tr>\n",
              "      <th>RN</th>\n",
              "      <td>291405</td>\n",
              "      <td>8407878</td>\n",
              "      <td>3.465857</td>\n",
              "    </tr>\n",
              "  </tbody>\n",
              "</table>\n",
              "</div>"
            ],
            "text/plain": [
              "        deaths  confirmed  taxa_mortalidade%\n",
              "state                                       \n",
              "RJ     2613669   35203156           7.424530\n",
              "PE     1220504   19701947           6.194840\n",
              "CE     1383821   33675951           4.109226\n",
              "SP     4613738  116716251           3.952953\n",
              "RN      291405    8407878           3.465857"
            ]
          },
          "metadata": {
            "tags": []
          },
          "execution_count": 326
        }
      ]
    },
    {
      "cell_type": "code",
      "metadata": {
        "colab": {
          "base_uri": "https://localhost:8080/",
          "height": 195
        },
        "id": "i3Lz1qYSpoMH",
        "outputId": "f22af850-bfe9-42ff-b2c2-a3d0d14d361d"
      },
      "source": [
        "#Aqui criamos uma nova coluna com o valor de State, e resetamos o index do dataset. \n",
        "#Isto é feito para futuramente unir esse dataset ao dataset com dados do PIB dos estados\n",
        "morte_estados['state'] = morte_estados.index\n",
        "morte_estados.reset_index(drop = True, inplace = True)\n",
        "morte_estados.head()"
      ],
      "execution_count": null,
      "outputs": [
        {
          "output_type": "execute_result",
          "data": {
            "text/html": [
              "<div>\n",
              "<style scoped>\n",
              "    .dataframe tbody tr th:only-of-type {\n",
              "        vertical-align: middle;\n",
              "    }\n",
              "\n",
              "    .dataframe tbody tr th {\n",
              "        vertical-align: top;\n",
              "    }\n",
              "\n",
              "    .dataframe thead th {\n",
              "        text-align: right;\n",
              "    }\n",
              "</style>\n",
              "<table border=\"1\" class=\"dataframe\">\n",
              "  <thead>\n",
              "    <tr style=\"text-align: right;\">\n",
              "      <th></th>\n",
              "      <th>deaths</th>\n",
              "      <th>confirmed</th>\n",
              "      <th>taxa_mortalidade%</th>\n",
              "      <th>state</th>\n",
              "    </tr>\n",
              "  </thead>\n",
              "  <tbody>\n",
              "    <tr>\n",
              "      <th>0</th>\n",
              "      <td>2613669</td>\n",
              "      <td>35203156</td>\n",
              "      <td>7.424530</td>\n",
              "      <td>RJ</td>\n",
              "    </tr>\n",
              "    <tr>\n",
              "      <th>1</th>\n",
              "      <td>1220504</td>\n",
              "      <td>19701947</td>\n",
              "      <td>6.194840</td>\n",
              "      <td>PE</td>\n",
              "    </tr>\n",
              "    <tr>\n",
              "      <th>2</th>\n",
              "      <td>1383821</td>\n",
              "      <td>33675951</td>\n",
              "      <td>4.109226</td>\n",
              "      <td>CE</td>\n",
              "    </tr>\n",
              "    <tr>\n",
              "      <th>3</th>\n",
              "      <td>4613738</td>\n",
              "      <td>116716251</td>\n",
              "      <td>3.952953</td>\n",
              "      <td>SP</td>\n",
              "    </tr>\n",
              "    <tr>\n",
              "      <th>4</th>\n",
              "      <td>291405</td>\n",
              "      <td>8407878</td>\n",
              "      <td>3.465857</td>\n",
              "      <td>RN</td>\n",
              "    </tr>\n",
              "  </tbody>\n",
              "</table>\n",
              "</div>"
            ],
            "text/plain": [
              "    deaths  confirmed  taxa_mortalidade% state\n",
              "0  2613669   35203156           7.424530    RJ\n",
              "1  1220504   19701947           6.194840    PE\n",
              "2  1383821   33675951           4.109226    CE\n",
              "3  4613738  116716251           3.952953    SP\n",
              "4   291405    8407878           3.465857    RN"
            ]
          },
          "metadata": {
            "tags": []
          },
          "execution_count": 327
        }
      ]
    },
    {
      "cell_type": "markdown",
      "metadata": {
        "id": "S7qUMz-P0mQS"
      },
      "source": [
        "#Adicionando a base de dados com o PIB de cada estado em 2017"
      ]
    },
    {
      "cell_type": "code",
      "metadata": {
        "id": "svg95J4UxaJ4",
        "colab": {
          "base_uri": "https://localhost:8080/",
          "height": 195
        },
        "outputId": "958b2bf6-81e2-459f-e417-d35e65e9355d"
      },
      "source": [
        "pib = pd.read_csv(\"/content/PIB2017.csv\", sep = \";\"  )\n",
        "pib.head()"
      ],
      "execution_count": null,
      "outputs": [
        {
          "output_type": "execute_result",
          "data": {
            "text/html": [
              "<div>\n",
              "<style scoped>\n",
              "    .dataframe tbody tr th:only-of-type {\n",
              "        vertical-align: middle;\n",
              "    }\n",
              "\n",
              "    .dataframe tbody tr th {\n",
              "        vertical-align: top;\n",
              "    }\n",
              "\n",
              "    .dataframe thead th {\n",
              "        text-align: right;\n",
              "    }\n",
              "</style>\n",
              "<table border=\"1\" class=\"dataframe\">\n",
              "  <thead>\n",
              "    <tr style=\"text-align: right;\">\n",
              "      <th></th>\n",
              "      <th>state</th>\n",
              "      <th>PIB</th>\n",
              "    </tr>\n",
              "  </thead>\n",
              "  <tbody>\n",
              "    <tr>\n",
              "      <th>0</th>\n",
              "      <td>AC</td>\n",
              "      <td>14271</td>\n",
              "    </tr>\n",
              "    <tr>\n",
              "      <th>1</th>\n",
              "      <td>AL</td>\n",
              "      <td>52843</td>\n",
              "    </tr>\n",
              "    <tr>\n",
              "      <th>2</th>\n",
              "      <td>AP</td>\n",
              "      <td>15480</td>\n",
              "    </tr>\n",
              "    <tr>\n",
              "      <th>3</th>\n",
              "      <td>AM</td>\n",
              "      <td>93204</td>\n",
              "    </tr>\n",
              "    <tr>\n",
              "      <th>4</th>\n",
              "      <td>BA</td>\n",
              "      <td>268661</td>\n",
              "    </tr>\n",
              "  </tbody>\n",
              "</table>\n",
              "</div>"
            ],
            "text/plain": [
              "  state     PIB\n",
              "0    AC   14271\n",
              "1    AL   52843\n",
              "2    AP   15480\n",
              "3    AM   93204\n",
              "4    BA  268661"
            ]
          },
          "metadata": {
            "tags": []
          },
          "execution_count": 328
        }
      ]
    },
    {
      "cell_type": "code",
      "metadata": {
        "id": "SUgZYrQ51Fjj",
        "colab": {
          "base_uri": "https://localhost:8080/",
          "height": 225
        },
        "outputId": "eeec1d80-6215-4483-d10d-b3e6237e4781"
      },
      "source": [
        "#Unindo os datasets\n",
        "df2 = morte_estados.merge(pib)\n",
        "df2 = df2.set_index('state')\n",
        "df2.head()"
      ],
      "execution_count": null,
      "outputs": [
        {
          "output_type": "execute_result",
          "data": {
            "text/html": [
              "<div>\n",
              "<style scoped>\n",
              "    .dataframe tbody tr th:only-of-type {\n",
              "        vertical-align: middle;\n",
              "    }\n",
              "\n",
              "    .dataframe tbody tr th {\n",
              "        vertical-align: top;\n",
              "    }\n",
              "\n",
              "    .dataframe thead th {\n",
              "        text-align: right;\n",
              "    }\n",
              "</style>\n",
              "<table border=\"1\" class=\"dataframe\">\n",
              "  <thead>\n",
              "    <tr style=\"text-align: right;\">\n",
              "      <th></th>\n",
              "      <th>deaths</th>\n",
              "      <th>confirmed</th>\n",
              "      <th>taxa_mortalidade%</th>\n",
              "      <th>PIB</th>\n",
              "    </tr>\n",
              "    <tr>\n",
              "      <th>state</th>\n",
              "      <th></th>\n",
              "      <th></th>\n",
              "      <th></th>\n",
              "      <th></th>\n",
              "    </tr>\n",
              "  </thead>\n",
              "  <tbody>\n",
              "    <tr>\n",
              "      <th>RJ</th>\n",
              "      <td>2613669</td>\n",
              "      <td>35203156</td>\n",
              "      <td>7.424530</td>\n",
              "      <td>671362</td>\n",
              "    </tr>\n",
              "    <tr>\n",
              "      <th>PE</th>\n",
              "      <td>1220504</td>\n",
              "      <td>19701947</td>\n",
              "      <td>6.194840</td>\n",
              "      <td>181551</td>\n",
              "    </tr>\n",
              "    <tr>\n",
              "      <th>CE</th>\n",
              "      <td>1383821</td>\n",
              "      <td>33675951</td>\n",
              "      <td>4.109226</td>\n",
              "      <td>147890</td>\n",
              "    </tr>\n",
              "    <tr>\n",
              "      <th>SP</th>\n",
              "      <td>4613738</td>\n",
              "      <td>116716251</td>\n",
              "      <td>3.952953</td>\n",
              "      <td>2119854</td>\n",
              "    </tr>\n",
              "    <tr>\n",
              "      <th>RN</th>\n",
              "      <td>291405</td>\n",
              "      <td>8407878</td>\n",
              "      <td>3.465857</td>\n",
              "      <td>64295</td>\n",
              "    </tr>\n",
              "  </tbody>\n",
              "</table>\n",
              "</div>"
            ],
            "text/plain": [
              "        deaths  confirmed  taxa_mortalidade%      PIB\n",
              "state                                                \n",
              "RJ     2613669   35203156           7.424530   671362\n",
              "PE     1220504   19701947           6.194840   181551\n",
              "CE     1383821   33675951           4.109226   147890\n",
              "SP     4613738  116716251           3.952953  2119854\n",
              "RN      291405    8407878           3.465857    64295"
            ]
          },
          "metadata": {
            "tags": []
          },
          "execution_count": 329
        }
      ]
    },
    {
      "cell_type": "code",
      "metadata": {
        "id": "HMjPkgXF5RE8"
      },
      "source": [
        "#Aqui foram criados dois rankings. Um que ordena os estados pelo PIB  e outro que ordena os estados pela traxa de mortalidade\n",
        "ranking_pib = df2.sort_values('PIB', ascending = False)\n",
        "ranking_mortes = df2.sort_values('taxa_mortalidade%', ascending = False)"
      ],
      "execution_count": null,
      "outputs": []
    },
    {
      "cell_type": "code",
      "metadata": {
        "id": "7FayqnPF5vXc",
        "colab": {
          "base_uri": "https://localhost:8080/",
          "height": 876
        },
        "outputId": "6fe4fc59-7301-420d-a6c7-ad232afa9bed"
      },
      "source": [
        "#Estados ranked por PIB\n",
        "ranking_pib = ranking_pib.drop(columns = ['deaths', 'confirmed', 'taxa_mortalidade%'])\n",
        "ranking_pib"
      ],
      "execution_count": null,
      "outputs": [
        {
          "output_type": "execute_result",
          "data": {
            "text/html": [
              "<div>\n",
              "<style scoped>\n",
              "    .dataframe tbody tr th:only-of-type {\n",
              "        vertical-align: middle;\n",
              "    }\n",
              "\n",
              "    .dataframe tbody tr th {\n",
              "        vertical-align: top;\n",
              "    }\n",
              "\n",
              "    .dataframe thead th {\n",
              "        text-align: right;\n",
              "    }\n",
              "</style>\n",
              "<table border=\"1\" class=\"dataframe\">\n",
              "  <thead>\n",
              "    <tr style=\"text-align: right;\">\n",
              "      <th></th>\n",
              "      <th>PIB</th>\n",
              "    </tr>\n",
              "    <tr>\n",
              "      <th>state</th>\n",
              "      <th></th>\n",
              "    </tr>\n",
              "  </thead>\n",
              "  <tbody>\n",
              "    <tr>\n",
              "      <th>SP</th>\n",
              "      <td>2119854</td>\n",
              "    </tr>\n",
              "    <tr>\n",
              "      <th>RJ</th>\n",
              "      <td>671362</td>\n",
              "    </tr>\n",
              "    <tr>\n",
              "      <th>MG</th>\n",
              "      <td>576199</td>\n",
              "    </tr>\n",
              "    <tr>\n",
              "      <th>RS</th>\n",
              "      <td>423151</td>\n",
              "    </tr>\n",
              "    <tr>\n",
              "      <th>PR</th>\n",
              "      <td>421375</td>\n",
              "    </tr>\n",
              "    <tr>\n",
              "      <th>SC</th>\n",
              "      <td>277192</td>\n",
              "    </tr>\n",
              "    <tr>\n",
              "      <th>BA</th>\n",
              "      <td>268661</td>\n",
              "    </tr>\n",
              "    <tr>\n",
              "      <th>DF</th>\n",
              "      <td>244683</td>\n",
              "    </tr>\n",
              "    <tr>\n",
              "      <th>GO</th>\n",
              "      <td>191899</td>\n",
              "    </tr>\n",
              "    <tr>\n",
              "      <th>PE</th>\n",
              "      <td>181551</td>\n",
              "    </tr>\n",
              "    <tr>\n",
              "      <th>PA</th>\n",
              "      <td>155195</td>\n",
              "    </tr>\n",
              "    <tr>\n",
              "      <th>CE</th>\n",
              "      <td>147890</td>\n",
              "    </tr>\n",
              "    <tr>\n",
              "      <th>MT</th>\n",
              "      <td>126805</td>\n",
              "    </tr>\n",
              "    <tr>\n",
              "      <th>ES</th>\n",
              "      <td>113352</td>\n",
              "    </tr>\n",
              "    <tr>\n",
              "      <th>MS</th>\n",
              "      <td>96372</td>\n",
              "    </tr>\n",
              "    <tr>\n",
              "      <th>AM</th>\n",
              "      <td>93204</td>\n",
              "    </tr>\n",
              "    <tr>\n",
              "      <th>MA</th>\n",
              "      <td>89524</td>\n",
              "    </tr>\n",
              "    <tr>\n",
              "      <th>RN</th>\n",
              "      <td>64295</td>\n",
              "    </tr>\n",
              "    <tr>\n",
              "      <th>PB</th>\n",
              "      <td>62387</td>\n",
              "    </tr>\n",
              "    <tr>\n",
              "      <th>AL</th>\n",
              "      <td>52843</td>\n",
              "    </tr>\n",
              "    <tr>\n",
              "      <th>PI</th>\n",
              "      <td>45359</td>\n",
              "    </tr>\n",
              "    <tr>\n",
              "      <th>RO</th>\n",
              "      <td>43506</td>\n",
              "    </tr>\n",
              "    <tr>\n",
              "      <th>SE</th>\n",
              "      <td>40704</td>\n",
              "    </tr>\n",
              "    <tr>\n",
              "      <th>TO</th>\n",
              "      <td>34102</td>\n",
              "    </tr>\n",
              "    <tr>\n",
              "      <th>AP</th>\n",
              "      <td>15480</td>\n",
              "    </tr>\n",
              "    <tr>\n",
              "      <th>AC</th>\n",
              "      <td>14271</td>\n",
              "    </tr>\n",
              "    <tr>\n",
              "      <th>RR</th>\n",
              "      <td>12103</td>\n",
              "    </tr>\n",
              "  </tbody>\n",
              "</table>\n",
              "</div>"
            ],
            "text/plain": [
              "           PIB\n",
              "state         \n",
              "SP     2119854\n",
              "RJ      671362\n",
              "MG      576199\n",
              "RS      423151\n",
              "PR      421375\n",
              "SC      277192\n",
              "BA      268661\n",
              "DF      244683\n",
              "GO      191899\n",
              "PE      181551\n",
              "PA      155195\n",
              "CE      147890\n",
              "MT      126805\n",
              "ES      113352\n",
              "MS       96372\n",
              "AM       93204\n",
              "MA       89524\n",
              "RN       64295\n",
              "PB       62387\n",
              "AL       52843\n",
              "PI       45359\n",
              "RO       43506\n",
              "SE       40704\n",
              "TO       34102\n",
              "AP       15480\n",
              "AC       14271\n",
              "RR       12103"
            ]
          },
          "metadata": {
            "tags": []
          },
          "execution_count": 331
        }
      ]
    },
    {
      "cell_type": "code",
      "metadata": {
        "id": "WMjQj3B258h7",
        "colab": {
          "base_uri": "https://localhost:8080/",
          "height": 876
        },
        "outputId": "6c0c4b8f-22db-47a8-ccd4-a42ea8584247"
      },
      "source": [
        "#Estados ranked por taxa de mortalidade\n",
        "ranking_mortes = ranking_mortes.drop(columns=['deaths', 'confirmed','PIB'])\n",
        "ranking_mortes\n"
      ],
      "execution_count": null,
      "outputs": [
        {
          "output_type": "execute_result",
          "data": {
            "text/html": [
              "<div>\n",
              "<style scoped>\n",
              "    .dataframe tbody tr th:only-of-type {\n",
              "        vertical-align: middle;\n",
              "    }\n",
              "\n",
              "    .dataframe tbody tr th {\n",
              "        vertical-align: top;\n",
              "    }\n",
              "\n",
              "    .dataframe thead th {\n",
              "        text-align: right;\n",
              "    }\n",
              "</style>\n",
              "<table border=\"1\" class=\"dataframe\">\n",
              "  <thead>\n",
              "    <tr style=\"text-align: right;\">\n",
              "      <th></th>\n",
              "      <th>taxa_mortalidade%</th>\n",
              "    </tr>\n",
              "    <tr>\n",
              "      <th>state</th>\n",
              "      <th></th>\n",
              "    </tr>\n",
              "  </thead>\n",
              "  <tbody>\n",
              "    <tr>\n",
              "      <th>RJ</th>\n",
              "      <td>7.424530</td>\n",
              "    </tr>\n",
              "    <tr>\n",
              "      <th>PE</th>\n",
              "      <td>6.194840</td>\n",
              "    </tr>\n",
              "    <tr>\n",
              "      <th>CE</th>\n",
              "      <td>4.109226</td>\n",
              "    </tr>\n",
              "    <tr>\n",
              "      <th>SP</th>\n",
              "      <td>3.952953</td>\n",
              "    </tr>\n",
              "    <tr>\n",
              "      <th>RN</th>\n",
              "      <td>3.465857</td>\n",
              "    </tr>\n",
              "    <tr>\n",
              "      <th>PA</th>\n",
              "      <td>3.366788</td>\n",
              "    </tr>\n",
              "    <tr>\n",
              "      <th>AM</th>\n",
              "      <td>3.277394</td>\n",
              "    </tr>\n",
              "    <tr>\n",
              "      <th>MT</th>\n",
              "      <td>2.937438</td>\n",
              "    </tr>\n",
              "    <tr>\n",
              "      <th>ES</th>\n",
              "      <td>2.812249</td>\n",
              "    </tr>\n",
              "    <tr>\n",
              "      <th>SE</th>\n",
              "      <td>2.572180</td>\n",
              "    </tr>\n",
              "    <tr>\n",
              "      <th>AL</th>\n",
              "      <td>2.561259</td>\n",
              "    </tr>\n",
              "    <tr>\n",
              "      <th>PR</th>\n",
              "      <td>2.513579</td>\n",
              "    </tr>\n",
              "    <tr>\n",
              "      <th>RS</th>\n",
              "      <td>2.482636</td>\n",
              "    </tr>\n",
              "    <tr>\n",
              "      <th>MG</th>\n",
              "      <td>2.448751</td>\n",
              "    </tr>\n",
              "    <tr>\n",
              "      <th>AC</th>\n",
              "      <td>2.439703</td>\n",
              "    </tr>\n",
              "    <tr>\n",
              "      <th>PI</th>\n",
              "      <td>2.331575</td>\n",
              "    </tr>\n",
              "    <tr>\n",
              "      <th>MA</th>\n",
              "      <td>2.323581</td>\n",
              "    </tr>\n",
              "    <tr>\n",
              "      <th>PB</th>\n",
              "      <td>2.302004</td>\n",
              "    </tr>\n",
              "    <tr>\n",
              "      <th>GO</th>\n",
              "      <td>2.287012</td>\n",
              "    </tr>\n",
              "    <tr>\n",
              "      <th>BA</th>\n",
              "      <td>2.185483</td>\n",
              "    </tr>\n",
              "    <tr>\n",
              "      <th>RO</th>\n",
              "      <td>2.128773</td>\n",
              "    </tr>\n",
              "    <tr>\n",
              "      <th>MS</th>\n",
              "      <td>1.807789</td>\n",
              "    </tr>\n",
              "    <tr>\n",
              "      <th>DF</th>\n",
              "      <td>1.604331</td>\n",
              "    </tr>\n",
              "    <tr>\n",
              "      <th>AP</th>\n",
              "      <td>1.538107</td>\n",
              "    </tr>\n",
              "    <tr>\n",
              "      <th>TO</th>\n",
              "      <td>1.443798</td>\n",
              "    </tr>\n",
              "    <tr>\n",
              "      <th>RR</th>\n",
              "      <td>1.410325</td>\n",
              "    </tr>\n",
              "    <tr>\n",
              "      <th>SC</th>\n",
              "      <td>1.285611</td>\n",
              "    </tr>\n",
              "  </tbody>\n",
              "</table>\n",
              "</div>"
            ],
            "text/plain": [
              "       taxa_mortalidade%\n",
              "state                   \n",
              "RJ              7.424530\n",
              "PE              6.194840\n",
              "CE              4.109226\n",
              "SP              3.952953\n",
              "RN              3.465857\n",
              "PA              3.366788\n",
              "AM              3.277394\n",
              "MT              2.937438\n",
              "ES              2.812249\n",
              "SE              2.572180\n",
              "AL              2.561259\n",
              "PR              2.513579\n",
              "RS              2.482636\n",
              "MG              2.448751\n",
              "AC              2.439703\n",
              "PI              2.331575\n",
              "MA              2.323581\n",
              "PB              2.302004\n",
              "GO              2.287012\n",
              "BA              2.185483\n",
              "RO              2.128773\n",
              "MS              1.807789\n",
              "DF              1.604331\n",
              "AP              1.538107\n",
              "TO              1.443798\n",
              "RR              1.410325\n",
              "SC              1.285611"
            ]
          },
          "metadata": {
            "tags": []
          },
          "execution_count": 332
        }
      ]
    },
    {
      "cell_type": "markdown",
      "metadata": {
        "id": "IiqYIv4csf0e"
      },
      "source": [
        "#Aqui podemos ver que a hipótese não se confirma, já que os estados com maior PIB não necessariamente possuem uma taxa de mortalidade baixa. A exemplo do Rio de Janeiro, que possui o segundo aior PIB do Brasil porém é o estado commaior mortalidade entre os 27 estados brasileiros."
      ]
    },
    {
      "cell_type": "markdown",
      "metadata": {
        "id": "GPh2dBPVs5iy"
      },
      "source": [
        "Correlação entre PIB e taxa_mortalidade%\n",
        "- A correlação entre essas duas variáveis é de 0.33 o que indica que elas possuem uma correlação positiva, porém muito próxima a zero. Isto indica que a correlação é muito fraca"
      ]
    },
    {
      "cell_type": "code",
      "metadata": {
        "id": "sDeQidDZ6F_0",
        "colab": {
          "base_uri": "https://localhost:8080/"
        },
        "outputId": "e8008bab-a9a2-40d2-8092-e2ccb9129bfc"
      },
      "source": [
        "df2['PIB'].corr(df2['taxa_mortalidade%'])"
      ],
      "execution_count": null,
      "outputs": [
        {
          "output_type": "execute_result",
          "data": {
            "text/plain": [
              "0.3305642812613499"
            ]
          },
          "metadata": {
            "tags": []
          },
          "execution_count": 333
        }
      ]
    },
    {
      "cell_type": "markdown",
      "metadata": {
        "id": "JJ1jUCOFtrwc"
      },
      "source": [
        "#Visualização gráfica dos rankings"
      ]
    },
    {
      "cell_type": "code",
      "metadata": {
        "id": "4ULWy4ql__fG"
      },
      "source": [
        "import matplotlib.pyplot as plt"
      ],
      "execution_count": null,
      "outputs": []
    },
    {
      "cell_type": "code",
      "metadata": {
        "id": "QuUoR3gttwWj"
      },
      "source": [
        "ranking_pib['state'] = ranking_pib.index\n",
        "ranking_pib.reset_index(drop = True, inplace = True)\n",
        "\n",
        "ranking_mortes['state'] = ranking_mortes.index\n",
        "ranking_mortes.reset_index(drop = True, inplace = True)"
      ],
      "execution_count": null,
      "outputs": []
    },
    {
      "cell_type": "code",
      "metadata": {
        "id": "Ay9_hq-A8yxc",
        "colab": {
          "base_uri": "https://localhost:8080/",
          "height": 403
        },
        "outputId": "e8b7936c-9da7-4e24-868d-e56a4231742c"
      },
      "source": [
        "ranking_pib.head(5).plot(y = 'PIB',\n",
        "                    x = 'state',\n",
        "                    kind = 'barh',\n",
        "                    figsize = (10,6) , \n",
        "                    title = \"Top 5 estados por PIB\",                    \n",
        "                    )\n",
        "plt.style.use('grayscale')"
      ],
      "execution_count": null,
      "outputs": [
        {
          "output_type": "display_data",
          "data": {
            "image/png": "[encoded data removed]",
            "text/plain": [
              "<Figure size 720x432 with 1 Axes>"
            ]
          },
          "metadata": {
            "tags": []
          }
        }
      ]
    },
    {
      "cell_type": "code",
      "metadata": {
        "id": "5u43gnccR9XY",
        "colab": {
          "base_uri": "https://localhost:8080/",
          "height": 390
        },
        "outputId": "8a7fa0c6-87d8-4532-f36a-4634d02209dc"
      },
      "source": [
        "ranking_mortes.tail(5).plot(y = 'taxa_mortalidade%',\n",
        "                    x = 'state',\n",
        "                    kind = 'barh',\n",
        "                    figsize = (10,6) , \n",
        "                    title = \"Estados com menor taxa de mortalidade Covid-19\",                    \n",
        "                    )\n",
        "plt.style.use('grayscale')"
      ],
      "execution_count": null,
      "outputs": [
        {
          "output_type": "display_data",
          "data": {
            "image/png": "[encoded data removed]",
            "text/plain": [
              "<Figure size 720x432 with 1 Axes>"
            ]
          },
          "metadata": {
            "tags": []
          }
        }
      ]
    }
  ]
}